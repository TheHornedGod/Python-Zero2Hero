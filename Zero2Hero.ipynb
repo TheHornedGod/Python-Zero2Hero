{
  "nbformat": 4,
  "nbformat_minor": 0,
  "metadata": {
    "colab": {
      "name": "Zero2Hero.ipynb",
      "provenance": [],
      "collapsed_sections": [],
      "authorship_tag": "ABX9TyNZtdb3bDHM3318rfKjbd8Z",
      "include_colab_link": true
    },
    "kernelspec": {
      "name": "python3",
      "display_name": "Python 3"
    },
    "language_info": {
      "name": "python"
    }
  },
  "cells": [
    {
      "cell_type": "markdown",
      "metadata": {
        "id": "view-in-github",
        "colab_type": "text"
      },
      "source": [
        "<a href=\"https://colab.research.google.com/github/TheHornedGod/Python-Zero2Hero/blob/main/Zero2Hero.ipynb\" target=\"_parent\"><img src=\"https://colab.research.google.com/assets/colab-badge.svg\" alt=\"Open In Colab\"/></a>"
      ]
    },
    {
      "cell_type": "markdown",
      "source": [
        "**Numeric**"
      ],
      "metadata": {
        "id": "HBOdP2VJf6qp"
      }
    },
    {
      "cell_type": "code",
      "source": [
        "a = 6\n",
        "print(\"Type of a : \",type(a))"
      ],
      "metadata": {
        "colab": {
          "base_uri": "https://localhost:8080/"
        },
        "id": "ZQNpsro_f8c2",
        "outputId": "a2346229-8f6b-478d-8475-f799c30b035c"
      },
      "execution_count": 1,
      "outputs": [
        {
          "output_type": "stream",
          "name": "stdout",
          "text": [
            "Type of a :  <class 'int'>\n"
          ]
        }
      ]
    },
    {
      "cell_type": "code",
      "source": [
        "b = 3.5\n",
        "print(\"Type of b : \",type(b))"
      ],
      "metadata": {
        "colab": {
          "base_uri": "https://localhost:8080/"
        },
        "id": "zbOpmmeOgkTX",
        "outputId": "676c85c0-8289-4254-9b56-b8929412e532"
      },
      "execution_count": 2,
      "outputs": [
        {
          "output_type": "stream",
          "name": "stdout",
          "text": [
            "Type of b :  <class 'float'>\n"
          ]
        }
      ]
    },
    {
      "cell_type": "markdown",
      "source": [
        "**String**\n"
      ],
      "metadata": {
        "id": "I60E6CCrgP-X"
      }
    },
    {
      "cell_type": "code",
      "source": [
        "String1 = \"Hello World!\"\n",
        "print(String1)\n"
      ],
      "metadata": {
        "colab": {
          "base_uri": "https://localhost:8080/"
        },
        "id": "WFxmxZHhgS9X",
        "outputId": "c0ded74d-e23c-4013-acf6-33bbb05dd014"
      },
      "execution_count": 3,
      "outputs": [
        {
          "output_type": "stream",
          "name": "stdout",
          "text": [
            "Hello World!\n"
          ]
        }
      ]
    },
    {
      "cell_type": "markdown",
      "source": [
        "**List**"
      ],
      "metadata": {
        "id": "J9y0KHuNss1L"
      }
    },
    {
      "cell_type": "code",
      "source": [
        "List = [\"Lets Upgrade\"]\n",
        "print(\"List with the use of string : \")\n",
        "print(List)"
      ],
      "metadata": {
        "colab": {
          "base_uri": "https://localhost:8080/"
        },
        "id": "Fgaw03basqnz",
        "outputId": "b5e51a14-1a7e-40f1-d76b-a013fe933b3f"
      },
      "execution_count": 5,
      "outputs": [
        {
          "output_type": "stream",
          "name": "stdout",
          "text": [
            "List with the use of string : \n",
            "['Lets Upgrade']\n"
          ]
        }
      ]
    },
    {
      "cell_type": "markdown",
      "source": [
        "**Tuple**"
      ],
      "metadata": {
        "id": "7zQUXms9tLty"
      }
    },
    {
      "cell_type": "code",
      "source": [
        "Tuple1 = (\"Lets\", \"Upgrade\")\n",
        "print(\"\\nList with the use of string : \")\n",
        "print(Tuple1)"
      ],
      "metadata": {
        "colab": {
          "base_uri": "https://localhost:8080/"
        },
        "id": "oVFdy8N_tN_e",
        "outputId": "2f75c8e0-ce80-41ce-8a6b-c9e339126773"
      },
      "execution_count": 6,
      "outputs": [
        {
          "output_type": "stream",
          "name": "stdout",
          "text": [
            "\n",
            "List with the use of string : \n",
            "('Lets', 'Upgrade')\n"
          ]
        }
      ]
    },
    {
      "cell_type": "markdown",
      "source": [
        "**Boolean**"
      ],
      "metadata": {
        "id": "WVn8KQwRtnlO"
      }
    },
    {
      "cell_type": "code",
      "source": [
        "print(type(True))\n",
        "print(type(False))\n",
        "  \n"
      ],
      "metadata": {
        "colab": {
          "base_uri": "https://localhost:8080/"
        },
        "id": "T2slVX1dt0t1",
        "outputId": "ab77d6d9-e9f2-4508-a83d-811a3904c042"
      },
      "execution_count": 9,
      "outputs": [
        {
          "output_type": "stream",
          "name": "stdout",
          "text": [
            "<class 'bool'>\n",
            "<class 'bool'>\n"
          ]
        }
      ]
    },
    {
      "cell_type": "markdown",
      "source": [
        "**Set**"
      ],
      "metadata": {
        "id": "ARnAXSBxt-oT"
      }
    },
    {
      "cell_type": "code",
      "source": [
        "set1 = set(\"LetsUpgrade\") \n",
        "print(\"\\nSet with the use of a String: \") \n",
        "print(set1) "
      ],
      "metadata": {
        "colab": {
          "base_uri": "https://localhost:8080/"
        },
        "id": "eTQG4x9yuLK7",
        "outputId": "7bc3f11b-6f82-47a9-c069-63837dd4d5a5"
      },
      "execution_count": 12,
      "outputs": [
        {
          "output_type": "stream",
          "name": "stdout",
          "text": [
            "\n",
            "Set with the use of a String: \n",
            "{'L', 'e', 'd', 'g', 's', 'p', 'a', 'U', 't', 'r'}\n"
          ]
        }
      ]
    },
    {
      "cell_type": "markdown",
      "source": [
        "**Dictionary**"
      ],
      "metadata": {
        "id": "f0MsyNCrusgy"
      }
    },
    {
      "cell_type": "code",
      "source": [
        "Dict = {1: 'Who', 2: 'Am', 3: 'I?'} \n",
        "print(\"\\nDictionary with the use of Integer Keys: \") \n",
        "print(Dict) "
      ],
      "metadata": {
        "colab": {
          "base_uri": "https://localhost:8080/"
        },
        "id": "QPmOJSLRurlf",
        "outputId": "dbcfc93e-b881-43de-d3f2-80febfcbb4b1"
      },
      "execution_count": 13,
      "outputs": [
        {
          "output_type": "stream",
          "name": "stdout",
          "text": [
            "\n",
            "Dictionary with the use of Integer Keys: \n",
            "{1: 'Who', 2: 'Am', 3: 'I?'}\n"
          ]
        }
      ]
    },
    {
      "cell_type": "markdown",
      "source": [
        "**Concatenation of Strings**"
      ],
      "metadata": {
        "id": "n76zZDPivXoq"
      }
    },
    {
      "cell_type": "code",
      "source": [
        "name = \"LetsUpgrader\"\n",
        "  \n",
        "# Concatenating a string using the %S in print statement\n",
        "print(\"Hey, %s!\" % name)"
      ],
      "metadata": {
        "colab": {
          "base_uri": "https://localhost:8080/"
        },
        "id": "igzFfuK-wpYh",
        "outputId": "605c875a-b58b-40bf-aedb-9082964cab3b"
      },
      "execution_count": 17,
      "outputs": [
        {
          "output_type": "stream",
          "name": "stdout",
          "text": [
            "Hey, LetsUpgrader!\n"
          ]
        }
      ]
    }
  ]
}